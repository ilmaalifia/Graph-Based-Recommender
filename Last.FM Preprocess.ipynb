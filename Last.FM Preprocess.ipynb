{
 "cells": [
  {
   "cell_type": "code",
   "execution_count": 12,
   "metadata": {},
   "outputs": [],
   "source": [
    "import pandas as pd\n",
    "import os\n",
    "import numpy as np\n",
    "from sklearn.feature_extraction.text import TfidfVectorizer\n",
    "from sklearn.decomposition import PCA\n",
    "from sklearn.preprocessing import Normalizer"
   ]
  },
  {
   "cell_type": "code",
   "execution_count": 13,
   "metadata": {},
   "outputs": [],
   "source": [
    "base_dir = '../../../Last.FM'"
   ]
  },
  {
   "cell_type": "code",
   "execution_count": 14,
   "metadata": {},
   "outputs": [],
   "source": [
    "df_artists = pd.read_csv(os.path.join(base_dir, 'artists.dat'), sep='\\t')\n",
    "df_tags = pd.read_csv(os.path.join(base_dir, 'tags.dat'), sep='\\t', encoding = 'ISO-8859-1')\n",
    "df_user_artists = pd.read_csv(os.path.join(base_dir, 'user_artists.dat'), sep='\\t') # sorted\n",
    "df_user_taggedartists = pd.read_csv(os.path.join(base_dir, 'user_taggedartists.dat'), sep='\\t')\n",
    "df_user_friends = pd.read_csv(os.path.join(base_dir, 'user_friends.dat'), sep='\\t')"
   ]
  },
  {
   "cell_type": "code",
   "execution_count": 15,
   "metadata": {},
   "outputs": [
    {
     "name": "stdout",
     "output_type": "stream",
     "text": [
      "1892\n",
      "17632\n",
      "1892\n",
      "12523\n"
     ]
    }
   ],
   "source": [
    "print(len(df_user_artists['userID'].unique()))\n",
    "print(len(df_user_artists['artistID'].unique()))\n",
    "print(len(df_user_taggedartists['userID'].unique()))\n",
    "print(len(df_user_taggedartists['artistID'].unique()))"
   ]
  },
  {
   "cell_type": "markdown",
   "metadata": {},
   "source": [
    "### USER"
   ]
  },
  {
   "cell_type": "code",
   "execution_count": 16,
   "metadata": {},
   "outputs": [],
   "source": [
    "most_review = df_user_taggedartists.groupby('userID').size().sort_values(ascending=False)\n",
    "most_rated = df_user_taggedartists.groupby('artistID').size().sort_values(ascending=False)\n",
    "top_1000_user = most_review.index[:1000].values"
   ]
  },
  {
   "cell_type": "code",
   "execution_count": 17,
   "metadata": {},
   "outputs": [],
   "source": [
    "# Standard\n",
    "final = df_user_artists[pd.DataFrame(df_user_artists['userID'].tolist()).isin(top_1000_user).any(1)].reset_index(drop=True)\n",
    "\n",
    "# More User\n",
    "# final = df_user_artists"
   ]
  },
  {
   "cell_type": "code",
   "execution_count": 18,
   "metadata": {},
   "outputs": [],
   "source": [
    "mapping_user = pd.DataFrame(list(final['userID'].unique())).reset_index().set_index(0).to_dict()['index']\n",
    "mapping_artist = pd.DataFrame(list(final['artistID'].unique())).reset_index().set_index(0).to_dict()['index']"
   ]
  },
  {
   "cell_type": "code",
   "execution_count": 19,
   "metadata": {},
   "outputs": [],
   "source": [
    "final['userID'] = final['userID'].map(lambda x: mapping_user[x])\n",
    "final['artistID'] = final['artistID'].map(lambda x: mapping_artist[x])"
   ]
  },
  {
   "cell_type": "code",
   "execution_count": 20,
   "metadata": {},
   "outputs": [],
   "source": [
    "# Add rank for index, set method 'first' if it has same value\n",
    "final['rank'] = final.groupby('userID')['weight'].rank(method='first', ascending=False).astype('int')"
   ]
  },
  {
   "cell_type": "code",
   "execution_count": 21,
   "metadata": {},
   "outputs": [],
   "source": [
    "final_user = final.pivot_table(values='artistID', index='rank', columns='userID').fillna(-1).astype('int').to_dict('list')"
   ]
  },
  {
   "cell_type": "code",
   "execution_count": 22,
   "metadata": {},
   "outputs": [],
   "source": [
    "# remove -1\n",
    "for key, values in final_user.items():\n",
    "    cnt = 0\n",
    "    for value in values:\n",
    "        if value == -1:\n",
    "            cnt += 1\n",
    "    if cnt > 0:\n",
    "        final_user[key] = final_user[key][:-cnt]"
   ]
  },
  {
   "cell_type": "code",
   "execution_count": 23,
   "metadata": {},
   "outputs": [],
   "source": [
    "# Export to npy\n",
    "np.save('data/lastfm_user_json_more.npy', final_user)"
   ]
  },
  {
   "cell_type": "markdown",
   "metadata": {},
   "source": [
    "### ITEM"
   ]
  },
  {
   "cell_type": "code",
   "execution_count": 24,
   "metadata": {},
   "outputs": [],
   "source": [
    "# get used tags with index == value\n",
    "used_tags = df_user_taggedartists['tagID'].value_counts().keys().to_series().rename('used_tags')"
   ]
  },
  {
   "cell_type": "code",
   "execution_count": 25,
   "metadata": {},
   "outputs": [],
   "source": [
    "# Replace all punctuation with space then split\n",
    "\n",
    "new_df_tags = df_tags.join(used_tags, on='tagID').dropna().drop(columns=['used_tags'])\n",
    "\n",
    "new_df_tags['tagValue'] = new_df_tags['tagValue'].str.lower().str.replace(r'[^\\w\\s]|_', ' ').str.split()"
   ]
  },
  {
   "cell_type": "code",
   "execution_count": 26,
   "metadata": {},
   "outputs": [
    {
     "data": {
      "text/plain": [
       "6036"
      ]
     },
     "execution_count": 26,
     "metadata": {},
     "output_type": "execute_result"
    }
   ],
   "source": [
    "# if digit, it should be year\n",
    "# if alpha, contains vowel but not all, length between 3 and 11\n",
    "# not digit-alpha\n",
    "\n",
    "def containsVowel(x):\n",
    "    return 'a' in x or 'i' in x or 'u' in x or 'e' in x or 'o' in x\n",
    "\n",
    "def isAllVowel(x):\n",
    "    for i in x:\n",
    "        if i not in ['a', 'i', 'u', 'e', 'o']:\n",
    "            return False\n",
    "    return True\n",
    "\n",
    "temp = {'tagID': [], 'tagValue': []}\n",
    "for row, content in new_df_tags.iterrows():\n",
    "    for i in content['tagValue']:\n",
    "        if i != '' and (i.isdigit() or i.isalpha()):\n",
    "            if len(i) > 1:\n",
    "                if i[-1] == 's' and i[-2] != 's':\n",
    "                    i = i[:-1]                \n",
    "            if (i.isdigit() and (i[:2] == '19' or i[:2] == '20') and len(i) == 4) or (i.isalpha() and len(i) > 3 and len(i) < 11 and containsVowel(i) and not isAllVowel(i)):\n",
    "                temp['tagValue'].append(i)\n",
    "                temp['tagID'].append(content['tagID'])\n",
    "\n",
    "final_df_tags = pd.DataFrame(temp)\n",
    "\n",
    "len(final_df_tags['tagValue'].unique())"
   ]
  },
  {
   "cell_type": "code",
   "execution_count": 27,
   "metadata": {},
   "outputs": [],
   "source": [
    "artist_tags = df_user_taggedartists.drop(columns=['userID', 'day', 'month', 'year']).join(final_df_tags.set_index('tagID'), on='tagID').dropna()\n",
    "# artist_tags.groupby('artistID').count().sort_values(by='tagID', ascending=False)"
   ]
  },
  {
   "cell_type": "code",
   "execution_count": 28,
   "metadata": {},
   "outputs": [
    {
     "data": {
      "text/plain": [
       "9370"
      ]
     },
     "execution_count": 28,
     "metadata": {},
     "output_type": "execute_result"
    }
   ],
   "source": [
    "artist_corpus = artist_tags.groupby('artistID')['tagValue'].apply(','.join).reset_index()\n",
    "artist_corpus = artist_corpus[pd.DataFrame(artist_corpus['artistID'].tolist()).isin(list(mapping_artist.keys())).any(1)]\n",
    "len(artist_corpus['artistID'].unique())"
   ]
  },
  {
   "cell_type": "code",
   "execution_count": 29,
   "metadata": {},
   "outputs": [
    {
     "data": {
      "text/plain": [
       "12209"
      ]
     },
     "execution_count": 29,
     "metadata": {},
     "output_type": "execute_result"
    }
   ],
   "source": [
    "# add empty id\n",
    "\n",
    "idx_exist = list(artist_corpus['artistID'].unique())\n",
    "idx_check = list(mapping_artist.keys())\n",
    "for i in idx_check:\n",
    "    \n",
    "    if i not in idx_exist:\n",
    "        artist_corpus = artist_corpus.append({'artistID': i, 'tagValue': ''}, ignore_index=True)\n",
    "        \n",
    "len(artist_corpus['artistID'].unique())"
   ]
  },
  {
   "cell_type": "code",
   "execution_count": 30,
   "metadata": {},
   "outputs": [],
   "source": [
    "artist_corpus['artistID'] = artist_corpus['artistID'].map(lambda x: mapping_artist[x])\n",
    "artist_corpus = artist_corpus.sort_values('artistID').reset_index(drop=True)"
   ]
  },
  {
   "cell_type": "code",
   "execution_count": 31,
   "metadata": {},
   "outputs": [
    {
     "data": {
      "text/html": [
       "<div>\n",
       "<style scoped>\n",
       "    .dataframe tbody tr th:only-of-type {\n",
       "        vertical-align: middle;\n",
       "    }\n",
       "\n",
       "    .dataframe tbody tr th {\n",
       "        vertical-align: top;\n",
       "    }\n",
       "\n",
       "    .dataframe thead th {\n",
       "        text-align: right;\n",
       "    }\n",
       "</style>\n",
       "<table border=\"1\" class=\"dataframe\">\n",
       "  <thead>\n",
       "    <tr style=\"text-align: right;\">\n",
       "      <th></th>\n",
       "      <th>artistID</th>\n",
       "      <th>tagValue</th>\n",
       "    </tr>\n",
       "  </thead>\n",
       "  <tbody>\n",
       "    <tr>\n",
       "      <th>0</th>\n",
       "      <td>0</td>\n",
       "      <td>wave,wave,wave,electronic,british,beautiful,lo...</td>\n",
       "    </tr>\n",
       "    <tr>\n",
       "      <th>1</th>\n",
       "      <td>1</td>\n",
       "      <td>chillout,downtempo,electronic,trip,female,vova...</td>\n",
       "    </tr>\n",
       "    <tr>\n",
       "      <th>2</th>\n",
       "      <td>2</td>\n",
       "      <td>electronic,autumn,downtempo,electronic,trip,da...</td>\n",
       "    </tr>\n",
       "    <tr>\n",
       "      <th>3</th>\n",
       "      <td>3</td>\n",
       "      <td>relax,electronic,female,vocalist,trip,chillout...</td>\n",
       "    </tr>\n",
       "    <tr>\n",
       "      <th>4</th>\n",
       "      <td>4</td>\n",
       "      <td>seen,live,electronic,dance,dance,female,vocali...</td>\n",
       "    </tr>\n",
       "    <tr>\n",
       "      <th>...</th>\n",
       "      <td>...</td>\n",
       "      <td>...</td>\n",
       "    </tr>\n",
       "    <tr>\n",
       "      <th>12204</th>\n",
       "      <td>12204</td>\n",
       "      <td></td>\n",
       "    </tr>\n",
       "    <tr>\n",
       "      <th>12205</th>\n",
       "      <td>12205</td>\n",
       "      <td>downtempo</td>\n",
       "    </tr>\n",
       "    <tr>\n",
       "      <th>12206</th>\n",
       "      <td>12206</td>\n",
       "      <td>electronic,downtempo,vfsix</td>\n",
       "    </tr>\n",
       "    <tr>\n",
       "      <th>12207</th>\n",
       "      <td>12207</td>\n",
       "      <td>drum,bass,liquid,funk</td>\n",
       "    </tr>\n",
       "    <tr>\n",
       "      <th>12208</th>\n",
       "      <td>12208</td>\n",
       "      <td>acid,jazz,friend,capella,chillout,downtempo,jazz</td>\n",
       "    </tr>\n",
       "  </tbody>\n",
       "</table>\n",
       "<p>12209 rows × 2 columns</p>\n",
       "</div>"
      ],
      "text/plain": [
       "       artistID                                           tagValue\n",
       "0             0  wave,wave,wave,electronic,british,beautiful,lo...\n",
       "1             1  chillout,downtempo,electronic,trip,female,vova...\n",
       "2             2  electronic,autumn,downtempo,electronic,trip,da...\n",
       "3             3  relax,electronic,female,vocalist,trip,chillout...\n",
       "4             4  seen,live,electronic,dance,dance,female,vocali...\n",
       "...         ...                                                ...\n",
       "12204     12204                                                   \n",
       "12205     12205                                          downtempo\n",
       "12206     12206                         electronic,downtempo,vfsix\n",
       "12207     12207                              drum,bass,liquid,funk\n",
       "12208     12208   acid,jazz,friend,capella,chillout,downtempo,jazz\n",
       "\n",
       "[12209 rows x 2 columns]"
      ]
     },
     "execution_count": 31,
     "metadata": {},
     "output_type": "execute_result"
    }
   ],
   "source": [
    "artist_corpus"
   ]
  },
  {
   "cell_type": "code",
   "execution_count": 32,
   "metadata": {},
   "outputs": [],
   "source": [
    "def searchByValue(dictionary, x):\n",
    "    for key, value in dictionary.items():\n",
    "        if value == x:\n",
    "            return key"
   ]
  },
  {
   "cell_type": "code",
   "execution_count": 33,
   "metadata": {
    "scrolled": true
   },
   "outputs": [
    {
     "data": {
      "text/html": [
       "<div>\n",
       "<style scoped>\n",
       "    .dataframe tbody tr th:only-of-type {\n",
       "        vertical-align: middle;\n",
       "    }\n",
       "\n",
       "    .dataframe tbody tr th {\n",
       "        vertical-align: top;\n",
       "    }\n",
       "\n",
       "    .dataframe thead th {\n",
       "        text-align: right;\n",
       "    }\n",
       "</style>\n",
       "<table border=\"1\" class=\"dataframe\">\n",
       "  <thead>\n",
       "    <tr style=\"text-align: right;\">\n",
       "      <th></th>\n",
       "      <th>0</th>\n",
       "      <th>1</th>\n",
       "      <th>2</th>\n",
       "      <th>3</th>\n",
       "      <th>4</th>\n",
       "      <th>5</th>\n",
       "      <th>6</th>\n",
       "      <th>7</th>\n",
       "      <th>8</th>\n",
       "      <th>9</th>\n",
       "      <th>...</th>\n",
       "      <th>15</th>\n",
       "      <th>16</th>\n",
       "      <th>17</th>\n",
       "      <th>18</th>\n",
       "      <th>19</th>\n",
       "      <th>20</th>\n",
       "      <th>21</th>\n",
       "      <th>22</th>\n",
       "      <th>23</th>\n",
       "      <th>24</th>\n",
       "    </tr>\n",
       "  </thead>\n",
       "  <tbody>\n",
       "    <tr>\n",
       "      <th>0</th>\n",
       "      <td>0.020682</td>\n",
       "      <td>-0.081229</td>\n",
       "      <td>-0.002902</td>\n",
       "      <td>-0.021293</td>\n",
       "      <td>-0.000209</td>\n",
       "      <td>0.096735</td>\n",
       "      <td>-0.084007</td>\n",
       "      <td>-0.077466</td>\n",
       "      <td>0.111649</td>\n",
       "      <td>-0.121347</td>\n",
       "      <td>...</td>\n",
       "      <td>0.105891</td>\n",
       "      <td>0.177286</td>\n",
       "      <td>-0.186743</td>\n",
       "      <td>-0.037070</td>\n",
       "      <td>0.080153</td>\n",
       "      <td>0.126405</td>\n",
       "      <td>-0.060539</td>\n",
       "      <td>-0.001755</td>\n",
       "      <td>-0.001926</td>\n",
       "      <td>-0.047913</td>\n",
       "    </tr>\n",
       "    <tr>\n",
       "      <th>1</th>\n",
       "      <td>-0.134205</td>\n",
       "      <td>-0.143446</td>\n",
       "      <td>0.097701</td>\n",
       "      <td>0.131950</td>\n",
       "      <td>-0.066020</td>\n",
       "      <td>0.265616</td>\n",
       "      <td>0.045124</td>\n",
       "      <td>0.273804</td>\n",
       "      <td>-0.177866</td>\n",
       "      <td>-0.059126</td>\n",
       "      <td>...</td>\n",
       "      <td>0.038957</td>\n",
       "      <td>0.443554</td>\n",
       "      <td>0.160021</td>\n",
       "      <td>-0.290982</td>\n",
       "      <td>0.073566</td>\n",
       "      <td>0.002657</td>\n",
       "      <td>-0.127503</td>\n",
       "      <td>0.219943</td>\n",
       "      <td>-0.092763</td>\n",
       "      <td>0.007949</td>\n",
       "    </tr>\n",
       "    <tr>\n",
       "      <th>2</th>\n",
       "      <td>-0.122967</td>\n",
       "      <td>-0.182464</td>\n",
       "      <td>0.082962</td>\n",
       "      <td>-0.076063</td>\n",
       "      <td>-0.225437</td>\n",
       "      <td>0.615120</td>\n",
       "      <td>0.066081</td>\n",
       "      <td>0.393686</td>\n",
       "      <td>-0.094136</td>\n",
       "      <td>-0.095718</td>\n",
       "      <td>...</td>\n",
       "      <td>-0.008933</td>\n",
       "      <td>0.046235</td>\n",
       "      <td>0.056409</td>\n",
       "      <td>-0.062520</td>\n",
       "      <td>-0.019454</td>\n",
       "      <td>-0.015348</td>\n",
       "      <td>-0.069595</td>\n",
       "      <td>0.057661</td>\n",
       "      <td>0.041278</td>\n",
       "      <td>0.023548</td>\n",
       "    </tr>\n",
       "    <tr>\n",
       "      <th>3</th>\n",
       "      <td>-0.092207</td>\n",
       "      <td>-0.158967</td>\n",
       "      <td>0.150027</td>\n",
       "      <td>0.122702</td>\n",
       "      <td>-0.048973</td>\n",
       "      <td>0.294117</td>\n",
       "      <td>0.069315</td>\n",
       "      <td>0.260993</td>\n",
       "      <td>-0.161563</td>\n",
       "      <td>-0.018476</td>\n",
       "      <td>...</td>\n",
       "      <td>-0.006134</td>\n",
       "      <td>0.393886</td>\n",
       "      <td>0.145437</td>\n",
       "      <td>-0.224400</td>\n",
       "      <td>0.030726</td>\n",
       "      <td>-0.044983</td>\n",
       "      <td>-0.106564</td>\n",
       "      <td>0.191609</td>\n",
       "      <td>-0.078472</td>\n",
       "      <td>-0.007380</td>\n",
       "    </tr>\n",
       "    <tr>\n",
       "      <th>4</th>\n",
       "      <td>-0.093490</td>\n",
       "      <td>-0.223318</td>\n",
       "      <td>0.302608</td>\n",
       "      <td>0.374711</td>\n",
       "      <td>0.047500</td>\n",
       "      <td>0.371016</td>\n",
       "      <td>0.009726</td>\n",
       "      <td>-0.257327</td>\n",
       "      <td>-0.014887</td>\n",
       "      <td>-0.228411</td>\n",
       "      <td>...</td>\n",
       "      <td>0.020294</td>\n",
       "      <td>-0.118911</td>\n",
       "      <td>0.000442</td>\n",
       "      <td>-0.226355</td>\n",
       "      <td>0.126207</td>\n",
       "      <td>-0.013219</td>\n",
       "      <td>0.002936</td>\n",
       "      <td>-0.032635</td>\n",
       "      <td>-0.077303</td>\n",
       "      <td>0.006982</td>\n",
       "    </tr>\n",
       "    <tr>\n",
       "      <th>...</th>\n",
       "      <td>...</td>\n",
       "      <td>...</td>\n",
       "      <td>...</td>\n",
       "      <td>...</td>\n",
       "      <td>...</td>\n",
       "      <td>...</td>\n",
       "      <td>...</td>\n",
       "      <td>...</td>\n",
       "      <td>...</td>\n",
       "      <td>...</td>\n",
       "      <td>...</td>\n",
       "      <td>...</td>\n",
       "      <td>...</td>\n",
       "      <td>...</td>\n",
       "      <td>...</td>\n",
       "      <td>...</td>\n",
       "      <td>...</td>\n",
       "      <td>...</td>\n",
       "      <td>...</td>\n",
       "      <td>...</td>\n",
       "      <td>...</td>\n",
       "    </tr>\n",
       "    <tr>\n",
       "      <th>12204</th>\n",
       "      <td>-0.103218</td>\n",
       "      <td>-0.026448</td>\n",
       "      <td>-0.055338</td>\n",
       "      <td>-0.027015</td>\n",
       "      <td>-0.025997</td>\n",
       "      <td>-0.059183</td>\n",
       "      <td>-0.016063</td>\n",
       "      <td>-0.021892</td>\n",
       "      <td>-0.021382</td>\n",
       "      <td>0.011522</td>\n",
       "      <td>...</td>\n",
       "      <td>-0.011028</td>\n",
       "      <td>0.006853</td>\n",
       "      <td>0.015438</td>\n",
       "      <td>0.006751</td>\n",
       "      <td>-0.001771</td>\n",
       "      <td>-0.017177</td>\n",
       "      <td>0.001739</td>\n",
       "      <td>-0.010851</td>\n",
       "      <td>0.001092</td>\n",
       "      <td>-0.008119</td>\n",
       "    </tr>\n",
       "    <tr>\n",
       "      <th>12205</th>\n",
       "      <td>-0.123178</td>\n",
       "      <td>-0.053858</td>\n",
       "      <td>-0.049544</td>\n",
       "      <td>-0.031598</td>\n",
       "      <td>-0.075154</td>\n",
       "      <td>0.042186</td>\n",
       "      <td>0.007270</td>\n",
       "      <td>0.180510</td>\n",
       "      <td>-0.140786</td>\n",
       "      <td>-0.022727</td>\n",
       "      <td>...</td>\n",
       "      <td>0.014163</td>\n",
       "      <td>0.301541</td>\n",
       "      <td>0.070584</td>\n",
       "      <td>-0.211017</td>\n",
       "      <td>0.022104</td>\n",
       "      <td>-0.045432</td>\n",
       "      <td>-0.084023</td>\n",
       "      <td>0.079590</td>\n",
       "      <td>-0.074187</td>\n",
       "      <td>0.004788</td>\n",
       "    </tr>\n",
       "    <tr>\n",
       "      <th>12206</th>\n",
       "      <td>-0.134950</td>\n",
       "      <td>-0.088304</td>\n",
       "      <td>-0.012816</td>\n",
       "      <td>-0.037036</td>\n",
       "      <td>-0.113622</td>\n",
       "      <td>0.257490</td>\n",
       "      <td>0.004537</td>\n",
       "      <td>0.092940</td>\n",
       "      <td>-0.033786</td>\n",
       "      <td>-0.075811</td>\n",
       "      <td>...</td>\n",
       "      <td>-0.037169</td>\n",
       "      <td>0.131069</td>\n",
       "      <td>0.096226</td>\n",
       "      <td>-0.054338</td>\n",
       "      <td>-0.029862</td>\n",
       "      <td>-0.036518</td>\n",
       "      <td>-0.032690</td>\n",
       "      <td>0.073574</td>\n",
       "      <td>-0.006667</td>\n",
       "      <td>0.023897</td>\n",
       "    </tr>\n",
       "    <tr>\n",
       "      <th>12207</th>\n",
       "      <td>-0.107856</td>\n",
       "      <td>-0.032076</td>\n",
       "      <td>-0.058335</td>\n",
       "      <td>-0.023116</td>\n",
       "      <td>-0.034906</td>\n",
       "      <td>-0.052212</td>\n",
       "      <td>-0.018922</td>\n",
       "      <td>-0.021644</td>\n",
       "      <td>-0.028552</td>\n",
       "      <td>-0.001585</td>\n",
       "      <td>...</td>\n",
       "      <td>-0.008600</td>\n",
       "      <td>-0.024276</td>\n",
       "      <td>0.020479</td>\n",
       "      <td>-0.001542</td>\n",
       "      <td>0.003723</td>\n",
       "      <td>-0.044911</td>\n",
       "      <td>-0.028134</td>\n",
       "      <td>0.007264</td>\n",
       "      <td>0.084322</td>\n",
       "      <td>0.038435</td>\n",
       "    </tr>\n",
       "    <tr>\n",
       "      <th>12208</th>\n",
       "      <td>-0.129553</td>\n",
       "      <td>-0.061988</td>\n",
       "      <td>-0.045252</td>\n",
       "      <td>-0.006958</td>\n",
       "      <td>-0.070869</td>\n",
       "      <td>-0.019708</td>\n",
       "      <td>-0.001950</td>\n",
       "      <td>0.187574</td>\n",
       "      <td>-0.154424</td>\n",
       "      <td>-0.017038</td>\n",
       "      <td>...</td>\n",
       "      <td>0.028130</td>\n",
       "      <td>0.046091</td>\n",
       "      <td>-0.066652</td>\n",
       "      <td>-0.024497</td>\n",
       "      <td>0.060571</td>\n",
       "      <td>0.088780</td>\n",
       "      <td>0.126746</td>\n",
       "      <td>-0.126480</td>\n",
       "      <td>-0.037808</td>\n",
       "      <td>-0.001367</td>\n",
       "    </tr>\n",
       "  </tbody>\n",
       "</table>\n",
       "<p>12209 rows × 25 columns</p>\n",
       "</div>"
      ],
      "text/plain": [
       "             0         1         2         3         4         5         6   \\\n",
       "0      0.020682 -0.081229 -0.002902 -0.021293 -0.000209  0.096735 -0.084007   \n",
       "1     -0.134205 -0.143446  0.097701  0.131950 -0.066020  0.265616  0.045124   \n",
       "2     -0.122967 -0.182464  0.082962 -0.076063 -0.225437  0.615120  0.066081   \n",
       "3     -0.092207 -0.158967  0.150027  0.122702 -0.048973  0.294117  0.069315   \n",
       "4     -0.093490 -0.223318  0.302608  0.374711  0.047500  0.371016  0.009726   \n",
       "...         ...       ...       ...       ...       ...       ...       ...   \n",
       "12204 -0.103218 -0.026448 -0.055338 -0.027015 -0.025997 -0.059183 -0.016063   \n",
       "12205 -0.123178 -0.053858 -0.049544 -0.031598 -0.075154  0.042186  0.007270   \n",
       "12206 -0.134950 -0.088304 -0.012816 -0.037036 -0.113622  0.257490  0.004537   \n",
       "12207 -0.107856 -0.032076 -0.058335 -0.023116 -0.034906 -0.052212 -0.018922   \n",
       "12208 -0.129553 -0.061988 -0.045252 -0.006958 -0.070869 -0.019708 -0.001950   \n",
       "\n",
       "             7         8         9   ...        15        16        17  \\\n",
       "0     -0.077466  0.111649 -0.121347  ...  0.105891  0.177286 -0.186743   \n",
       "1      0.273804 -0.177866 -0.059126  ...  0.038957  0.443554  0.160021   \n",
       "2      0.393686 -0.094136 -0.095718  ... -0.008933  0.046235  0.056409   \n",
       "3      0.260993 -0.161563 -0.018476  ... -0.006134  0.393886  0.145437   \n",
       "4     -0.257327 -0.014887 -0.228411  ...  0.020294 -0.118911  0.000442   \n",
       "...         ...       ...       ...  ...       ...       ...       ...   \n",
       "12204 -0.021892 -0.021382  0.011522  ... -0.011028  0.006853  0.015438   \n",
       "12205  0.180510 -0.140786 -0.022727  ...  0.014163  0.301541  0.070584   \n",
       "12206  0.092940 -0.033786 -0.075811  ... -0.037169  0.131069  0.096226   \n",
       "12207 -0.021644 -0.028552 -0.001585  ... -0.008600 -0.024276  0.020479   \n",
       "12208  0.187574 -0.154424 -0.017038  ...  0.028130  0.046091 -0.066652   \n",
       "\n",
       "             18        19        20        21        22        23        24  \n",
       "0     -0.037070  0.080153  0.126405 -0.060539 -0.001755 -0.001926 -0.047913  \n",
       "1     -0.290982  0.073566  0.002657 -0.127503  0.219943 -0.092763  0.007949  \n",
       "2     -0.062520 -0.019454 -0.015348 -0.069595  0.057661  0.041278  0.023548  \n",
       "3     -0.224400  0.030726 -0.044983 -0.106564  0.191609 -0.078472 -0.007380  \n",
       "4     -0.226355  0.126207 -0.013219  0.002936 -0.032635 -0.077303  0.006982  \n",
       "...         ...       ...       ...       ...       ...       ...       ...  \n",
       "12204  0.006751 -0.001771 -0.017177  0.001739 -0.010851  0.001092 -0.008119  \n",
       "12205 -0.211017  0.022104 -0.045432 -0.084023  0.079590 -0.074187  0.004788  \n",
       "12206 -0.054338 -0.029862 -0.036518 -0.032690  0.073574 -0.006667  0.023897  \n",
       "12207 -0.001542  0.003723 -0.044911 -0.028134  0.007264  0.084322  0.038435  \n",
       "12208 -0.024497  0.060571  0.088780  0.126746 -0.126480 -0.037808 -0.001367  \n",
       "\n",
       "[12209 rows x 25 columns]"
      ]
     },
     "execution_count": 33,
     "metadata": {},
     "output_type": "execute_result"
    }
   ],
   "source": [
    "# Create TF-IDF Context Vector for item features\n",
    "# Set dimension to 25\n",
    "\n",
    "vectorizer = TfidfVectorizer()\n",
    "X = vectorizer.fit_transform(artist_corpus['tagValue'])\n",
    "# print(vectorizer.vocabulary_.keys())\n",
    "# print(vectorizer.get_feature_names())\n",
    "# print(X.shape)\n",
    "# print(X[0])\n",
    "\n",
    "df_items = pd.DataFrame(X.toarray(), columns=vectorizer.get_feature_names())\n",
    "\n",
    "pca = PCA(n_components = 25)\n",
    "final_item = pca.fit_transform(df_items)\n",
    "pd.DataFrame(final_item)"
   ]
  },
  {
   "cell_type": "code",
   "execution_count": 34,
   "metadata": {},
   "outputs": [],
   "source": [
    "# Export to npy\n",
    "np.save('data/lastfm_item_feature.npy', final_item)"
   ]
  },
  {
   "cell_type": "code",
   "execution_count": 35,
   "metadata": {},
   "outputs": [
    {
     "data": {
      "text/plain": [
       "1000"
      ]
     },
     "execution_count": 35,
     "metadata": {},
     "output_type": "execute_result"
    }
   ],
   "source": [
    "top_artist = artist_tags.groupby('artistID').size().sort_values(ascending=False).index.values\n",
    "new_top_artist = []\n",
    "for i in top_artist:\n",
    "    if i in list(mapping_artist.keys()) and len(new_top_artist) < 1000:\n",
    "        new_top_artist.append(i)\n",
    "\n",
    "final_popular_artist = pd.Series(new_top_artist).apply(lambda x: mapping_artist[x])\n",
    "\n",
    "len(final_popular_artist)"
   ]
  },
  {
   "cell_type": "code",
   "execution_count": 38,
   "metadata": {
    "scrolled": true
   },
   "outputs": [],
   "source": [
    "# Export to npy\n",
    "np.save('data/lastfm_popular_item.npy', final_popular_artist)"
   ]
  }
 ],
 "metadata": {
  "kernelspec": {
   "display_name": "tugas_akhir",
   "language": "python",
   "name": "tugas_akhir"
  },
  "language_info": {
   "codemirror_mode": {
    "name": "ipython",
    "version": 3
   },
   "file_extension": ".py",
   "mimetype": "text/x-python",
   "name": "python",
   "nbconvert_exporter": "python",
   "pygments_lexer": "ipython3",
   "version": "3.8.2"
  }
 },
 "nbformat": 4,
 "nbformat_minor": 2
}
